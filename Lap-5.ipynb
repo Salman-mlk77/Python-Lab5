{
 "cells": [
  {
   "cell_type": "code",
   "execution_count": 25,
   "id": "82123999",
   "metadata": {
    "scrolled": false
   },
   "outputs": [
    {
     "name": "stdout",
     "output_type": "stream",
     "text": [
      "[5, 4, 17, 19, 30, 2, 7, 10, 45]\n",
      "139\n",
      "45\n"
     ]
    }
   ],
   "source": [
    "x = [5, 4, 17, 19, 30, 2, 7, 10, 45]\n",
    "print(x)\n",
    "print(sum(x))\n",
    "print(max(x))"
   ]
  },
  {
   "cell_type": "code",
   "execution_count": 26,
   "id": "e4efdce2",
   "metadata": {},
   "outputs": [
    {
     "name": "stdout",
     "output_type": "stream",
     "text": [
      "The sum of numbers is : 139\n"
     ]
    }
   ],
   "source": [
    "total = 0\n",
    "for num in x:\n",
    "    total += num\n",
    "\n",
    "print(\"The sum of numbers is :\",total)\n"
   ]
  },
  {
   "cell_type": "code",
   "execution_count": 27,
   "id": "834b56a9",
   "metadata": {},
   "outputs": [
    {
     "name": "stdout",
     "output_type": "stream",
     "text": [
      "The largest number is : 45\n"
     ]
    }
   ],
   "source": [
    "larg_num = x[0]\n",
    "for i in x:\n",
    "    if i > larg_num:\n",
    "        larg_num = i\n",
    "        \n",
    "print(\"The largest number is :\",larg_num)"
   ]
  },
  {
   "cell_type": "code",
   "execution_count": 28,
   "id": "96840a7e",
   "metadata": {},
   "outputs": [
    {
     "name": "stdout",
     "output_type": "stream",
     "text": [
      "[4, 30, 2, 10]\n"
     ]
    }
   ],
   "source": [
    "y = []\n",
    "for num in x:\n",
    "    if num % 2 == 0:\n",
    "        y.append(num)\n",
    "    \n",
    "print(y)"
   ]
  },
  {
   "cell_type": "code",
   "execution_count": 29,
   "id": "307d0827",
   "metadata": {},
   "outputs": [
    {
     "data": {
      "text/plain": [
       "[5, 4, 17, 19, 30]"
      ]
     },
     "execution_count": 29,
     "metadata": {},
     "output_type": "execute_result"
    }
   ],
   "source": [
    "z = x[0:5]\n",
    "z"
   ]
  }
 ],
 "metadata": {
  "kernelspec": {
   "display_name": "Python 3 (ipykernel)",
   "language": "python",
   "name": "python3"
  },
  "language_info": {
   "codemirror_mode": {
    "name": "ipython",
    "version": 3
   },
   "file_extension": ".py",
   "mimetype": "text/x-python",
   "name": "python",
   "nbconvert_exporter": "python",
   "pygments_lexer": "ipython3",
   "version": "3.9.7"
  }
 },
 "nbformat": 4,
 "nbformat_minor": 5
}
